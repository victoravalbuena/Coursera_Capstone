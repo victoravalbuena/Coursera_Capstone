{
    "cells": [
        {
            "cell_type": "markdown",
            "metadata": {
                "collapsed": true
            },
            "source": "# BERLIN // Where to open a new Hotel: neigborhood analysis"
        },
        {
            "cell_type": "markdown",
            "metadata": {},
            "source": "# 1 - Introduction"
        },
        {
            "cell_type": "markdown",
            "metadata": {},
            "source": "## 1.1 Discussion of the problem"
        },
        {
            "cell_type": "markdown",
            "metadata": {},
            "source": "After COVID pandemic more problematic waves have passsed and once vaccination process is fully advanced, a well known spanish hospitality company is planning to open a new hotel in Berlin. What will be the best place to do it?"
        },
        {
            "cell_type": "markdown",
            "metadata": {},
            "source": "## 1.2 Discussion of the background"
        },
        {
            "cell_type": "markdown",
            "metadata": {},
            "source": "During 2020 tourism was one the main industries affected by lockdown decisions around the world. According to UN data, during 2020 international arrivals are estimated to have dropped to 381 million, down from 1.461 billion $ in 2019 \u2014 a 74% decline. In countries whose economies are heavily reliant on tourism as the suth of Europe (Italy, Portugal, Greece or Spain), the precipitous drop in visitors was, and remains, devastating."
        },
        {
            "cell_type": "markdown",
            "metadata": {},
            "source": "Berlin was not left out of this huge crisis. It is the capital and the biggest city of Germany, the second most populous city in the European Union, Berlin has nearly 3,6 million residents from more than 190 countries with a population density of 4,200 people per km\u00b2, the city is divided into 12 boroughs, 95 neighborhoods. \nAlso it is considered a top European destination \u2013 ranked third after London and Paris."
        },
        {
            "cell_type": "markdown",
            "metadata": {},
            "source": "During 2020 even though the world is facing the Coronavirus crisis, Berlin welcomed almost 5 millions tourists in the whole year 2020, which represents a decrease of 65% of the same period in 2019.\nAt the beggining of 2021, between January and April 400,000 tourists have visited Berlin, and it is expected these figures could rise as vaccination process improves and frontiers are widely opened.\nActually there are 635 accommodation establishments classified as \"hotels\" (includes hotels, guesthouses and bed & breakfast properties) in Berlin."
        },
        {
            "cell_type": "markdown",
            "metadata": {},
            "source": "In order to face this issue, we can solve this problem by creating a map and information chart that shows the real distribution of hotels in Berlin and clustering each area according to the density of the place.\nWe will need to find a method to use Foursquare location data where machine learning to help us make decisions for hte spanish hospitality company. \n\nIn this project, I will try to use Foursquare location data and clustering methods to divide regions into different groups based on their hotel location information."
        },
        {
            "cell_type": "markdown",
            "metadata": {},
            "source": "# 2 - Data description: how it helps to solve the problem"
        },
        {
            "cell_type": "markdown",
            "metadata": {},
            "source": "For this project, data needed is as follows:\n\n**1 - Berlin neigborood data: list of Boroughs and neighborhoods and their latitudes and longitudes.**\n<ul>\n<li> Data source: https://en.wikipedia.org/wiki/Boroughs_and_neighborhoods_of_Berlin </li>\n<li> Description: We will discard the Berlin area (district) table through Wikipedia. Then using geocoder class of the Geopy to get coordinates (lattitude and longited) of these 12 main areas. </li>\n</ul>\n    \n**2 - Hotels in each neighborhood in Berlin:**\n\n<ul>\n<li> Data source: Foursquare API </li>\n<li> Description: By using this API, we will obtain all venues in each community. We can filter these places to get only hotels. </li>\n</ul>"
        }
    ],
    "metadata": {
        "kernelspec": {
            "display_name": "Python 3.7",
            "language": "python",
            "name": "python3"
        },
        "language_info": {
            "codemirror_mode": {
                "name": "ipython",
                "version": 3
            },
            "file_extension": ".py",
            "mimetype": "text/x-python",
            "name": "python",
            "nbconvert_exporter": "python",
            "pygments_lexer": "ipython3",
            "version": "3.7.10"
        }
    },
    "nbformat": 4,
    "nbformat_minor": 1
}